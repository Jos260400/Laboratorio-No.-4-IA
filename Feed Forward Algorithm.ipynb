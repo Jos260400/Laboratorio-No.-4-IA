{
 "cells": [
  {
   "cell_type": "code",
   "execution_count": 7,
   "id": "e6b975b6",
   "metadata": {},
   "outputs": [
    {
     "name": "stdout",
     "output_type": "stream",
     "text": [
      "[-1  2] 64\n",
      "[2 2] 256\n",
      "[3 3] 384\n"
     ]
    }
   ],
   "source": [
    "import numpy as np\n",
    "\n",
    "\n",
    "def relu(n):\n",
    "    if n<0:\n",
    "        return 0\n",
    "    else:\n",
    "        return n\n",
    "\n",
    "\n",
    "inp=np.array([[-1,2],[2,2],[3,3]])\n",
    "weights=[np.array([3,3]),np.array([5,5]),np.array([3,3]),np.array([5,5]),np.array([1,1])]\n",
    "for x in inp :\n",
    "    node0=relu((x*weights[0]).sum())\n",
    "    node1=relu((x*weights[1]).sum())\n",
    "    node2=relu(([node0,node1]*weights[2]).sum())\n",
    "    node3=relu(([node0,node1]*weights[3]).sum())\n",
    "    op=relu(([node2,node3]*weights[4]).sum())\n",
    "    print(x,op)"
   ]
  }
 ],
 "metadata": {
  "kernelspec": {
   "display_name": "Python 3 (ipykernel)",
   "language": "python",
   "name": "python3"
  },
  "language_info": {
   "codemirror_mode": {
    "name": "ipython",
    "version": 3
   },
   "file_extension": ".py",
   "mimetype": "text/x-python",
   "name": "python",
   "nbconvert_exporter": "python",
   "pygments_lexer": "ipython3",
   "version": "3.9.7"
  }
 },
 "nbformat": 4,
 "nbformat_minor": 5
}

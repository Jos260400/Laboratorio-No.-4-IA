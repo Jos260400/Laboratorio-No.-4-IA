{
 "cells": [
  {
   "cell_type": "code",
   "execution_count": 7,
   "id": "b6cbc844",
   "metadata": {},
   "outputs": [],
   "source": [
    "#Implementacion\n",
    " \n",
    "from numpy import *\n",
    " \n",
    "class FeedForwardNetwork:\n",
    "     \n",
    "    def __init__(self, nIn, nHidden, nOut):\n",
    "        self.alpha = 0.1\n",
    "                                                 \n",
    "#Cantidad de neuronas\n",
    "        self.nIn = nIn\n",
    "        self.nHidden = nHidden\n",
    "        self.nOut = nOut\n",
    "#bias\n",
    "        self.hWeights = random.random((self.nHidden, self.nIn+1)) \n",
    "        self.oWeights = random.random((self.nOut, self.nHidden+1))\n",
    "        self.hActivation = zeros((self.nHidden, 1), dtype=float)\n",
    "        self.oActivation = zeros((self.nOut, 1), dtype=float)\n",
    "        self.iOutput = zeros((self.nIn+1, 1), dtype=float)      \n",
    "        self.hOutput = zeros((self.nHidden+1, 1), dtype=float)  \n",
    "        self.oOutput = zeros((self.nOut), dtype=float)\n",
    "        self.hDelta = zeros((self.nHidden), dtype=float)\n",
    "        self.oDelta = zeros((self.nOut), dtype=float)   \n",
    "     \n",
    "    def forward(self, input):\n",
    "\n",
    "        self.iOutput[:-1, 0] = input\n",
    "        self.iOutput[-1:, 0] = 1.0\n",
    "        self.hActivation = dot(self.hWeights, self.iOutput)\n",
    "        self.hOutput[:-1, :] = tanh(self.hActivation)\n",
    "        self.hOutput[-1:, :] = 1.0\n",
    "        self.oActivation = dot(self.oWeights, self.hOutput)\n",
    "        self.oOutput = tanh(self.oActivation)\n",
    "     \n",
    "    def backward(self, teach):\n",
    "        error = self.oOutput - array(teach, dtype=float) \n",
    "        self.oDelta = (1 - tanh(self.oActivation)) * tanh(self.oActivation) * error\n",
    "        self.hDelta = (1 - tanh(self.hActivation)) * tanh(self.hActivation) * dot(self.oWeights[:,:-1].transpose(), self.oDelta)\n",
    "        self.hWeights = self.hWeights - self.alpha * dot(self.hDelta, self.iOutput.transpose()) \n",
    "        self.oWeights = self.oWeights - self.alpha * dot(self.oDelta, self.hOutput.transpose())\n",
    "     \n",
    "    def getOutput(self):\n",
    "        return self.oOutput\n",
    "     \n",
    " \n",
    " \n"
   ]
  },
  {
   "cell_type": "code",
   "execution_count": null,
   "id": "2a76892c",
   "metadata": {},
   "outputs": [],
   "source": []
  }
 ],
 "metadata": {
  "kernelspec": {
   "display_name": "Python 3 (ipykernel)",
   "language": "python",
   "name": "python3"
  },
  "language_info": {
   "codemirror_mode": {
    "name": "ipython",
    "version": 3
   },
   "file_extension": ".py",
   "mimetype": "text/x-python",
   "name": "python",
   "nbconvert_exporter": "python",
   "pygments_lexer": "ipython3",
   "version": "3.9.7"
  }
 },
 "nbformat": 4,
 "nbformat_minor": 5
}
